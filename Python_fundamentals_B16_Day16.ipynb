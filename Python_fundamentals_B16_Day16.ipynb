{
 "cells": [
  {
   "cell_type": "code",
   "execution_count": 1,
   "metadata": {},
   "outputs": [],
   "source": [
    "#understanding the use of constructor"
   ]
  },
  {
   "cell_type": "code",
   "execution_count": 9,
   "metadata": {},
   "outputs": [],
   "source": [
    "class Dog:\n",
    "    \"\"\"A simple attempt to model a dog\"\"\"\n",
    "    def __init__(self,name,age):\n",
    "        self.name =name\n",
    "        self.age =age\n",
    "        print('This constructor got executed')\n",
    "        \n",
    "    def sitting(self):\n",
    "        print(f\"{self.name} is now sitting & its age is {self.age}\")\n",
    "        \n",
    "    def rolling(self):\n",
    "        print(f\"{self.name} is now rolling\")\n",
    "    \n",
    "    "
   ]
  },
  {
   "cell_type": "code",
   "execution_count": 14,
   "metadata": {},
   "outputs": [
    {
     "name": "stdout",
     "output_type": "stream",
     "text": [
      "This constructor got executed\n"
     ]
    }
   ],
   "source": [
    "xobj = Dog('bruno','7')"
   ]
  },
  {
   "cell_type": "code",
   "execution_count": 15,
   "metadata": {},
   "outputs": [
    {
     "name": "stdout",
     "output_type": "stream",
     "text": [
      "bruno is now sitting & its age is 7\n"
     ]
    }
   ],
   "source": [
    "xobj.sitting()"
   ]
  },
  {
   "cell_type": "code",
   "execution_count": 8,
   "metadata": {},
   "outputs": [
    {
     "name": "stdout",
     "output_type": "stream",
     "text": [
      "bruno is now rolling\n"
     ]
    }
   ],
   "source": [
    "xobj.rolling()"
   ]
  },
  {
   "cell_type": "code",
   "execution_count": null,
   "metadata": {},
   "outputs": [],
   "source": []
  }
 ],
 "metadata": {
  "kernelspec": {
   "display_name": "Python 3",
   "language": "python",
   "name": "python3"
  },
  "language_info": {
   "codemirror_mode": {
    "name": "ipython",
    "version": 3
   },
   "file_extension": ".py",
   "mimetype": "text/x-python",
   "name": "python",
   "nbconvert_exporter": "python",
   "pygments_lexer": "ipython3",
   "version": "3.7.6"
  }
 },
 "nbformat": 4,
 "nbformat_minor": 4
}
